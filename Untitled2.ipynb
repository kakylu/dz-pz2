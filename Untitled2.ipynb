{
  "nbformat": 4,
  "nbformat_minor": 0,
  "metadata": {
    "colab": {
      "provenance": []
    },
    "kernelspec": {
      "name": "python3",
      "display_name": "Python 3"
    },
    "language_info": {
      "name": "python"
    }
  },
  "cells": [
    {
      "cell_type": "code",
      "execution_count": 1,
      "metadata": {
        "colab": {
          "base_uri": "https://localhost:8080/"
        },
        "id": "alcuRq-bw5jm",
        "outputId": "dd5cd7ce-e935-4dd9-a395-c2021bd41b3f"
      },
      "outputs": [
        {
          "output_type": "stream",
          "name": "stdout",
          "text": [
            "Cloning into 'loghub'...\n",
            "remote: Enumerating objects: 557, done.\u001b[K\n",
            "remote: Counting objects: 100% (83/83), done.\u001b[K\n",
            "remote: Compressing objects: 100% (34/34), done.\u001b[K\n",
            "remote: Total 557 (delta 55), reused 52 (delta 47), pack-reused 474\u001b[K\n",
            "Receiving objects: 100% (557/557), 7.32 MiB | 15.17 MiB/s, done.\n",
            "Resolving deltas: 100% (255/255), done.\n"
          ]
        }
      ],
      "source": [
        "!git clone https://github.com/logpai/loghub"
      ]
    },
    {
      "cell_type": "code",
      "source": [
        "%cd /content/loghub/Spark\n",
        "!pwd"
      ],
      "metadata": {
        "colab": {
          "base_uri": "https://localhost:8080/"
        },
        "id": "NGn2R4_iw6NW",
        "outputId": "1a849bd5-90b4-486b-8e2a-fe46d2fa0918"
      },
      "execution_count": 2,
      "outputs": [
        {
          "output_type": "stream",
          "name": "stdout",
          "text": [
            "/content/loghub/Spark\n",
            "/content/loghub/Spark\n"
          ]
        }
      ]
    },
    {
      "cell_type": "code",
      "source": [
        "import re\n",
        "\n",
        "def parse_log_line(log_line):\n",
        "    regex_pattern = r'(\\d{2}/\\d{2}/\\d{2}) (\\d{2}:\\d{2}:\\d{2}) (\\w+) (.*?):\\s+(.*)'\n",
        "    matches = re.search(regex_pattern, log_line)\n",
        "\n",
        "    if matches:\n",
        "        date = matches.group(1)\n",
        "        time = matches.group(2)\n",
        "        log_level = matches.group(3)\n",
        "        source = matches.group(4)\n",
        "        message = matches.group(5)\n",
        "        return {\n",
        "            \"Date\": date,\n",
        "            \"Time\": time,\n",
        "            \"Log Level\": log_level,\n",
        "            \"Source\": source,\n",
        "            \"Message\": message\n",
        "        }\n",
        "    else:\n",
        "        return None\n",
        "\n",
        "log_line = \"17/06/09 20:10:40 INFO executor.CoarseGrainedExecutorBackend: Registered signal handlers for [TERM, HUP, INT]\"\n",
        "\n",
        "parsed_log = parse_log_line(log_line)\n",
        "\n",
        "if parsed_log:\n",
        "    print(\"Date:\", parsed_log[\"Date\"])\n",
        "    print(\"Time:\", parsed_log[\"Time\"])\n",
        "    print(\"Log Level:\", parsed_log[\"Log Level\"])\n",
        "    print(\"Source:\", parsed_log[\"Source\"])\n",
        "    print(\"Message:\", parsed_log[\"Message\"])\n",
        "else:\n",
        "    print(\"Failed to parse the log line.\")\n"
      ],
      "metadata": {
        "colab": {
          "base_uri": "https://localhost:8080/"
        },
        "id": "ZOqLplKmxFjP",
        "outputId": "53e2cd7d-5b21-497f-ef23-a442b528b3cd"
      },
      "execution_count": 3,
      "outputs": [
        {
          "output_type": "stream",
          "name": "stdout",
          "text": [
            "Date: 17/06/09\n",
            "Time: 20:10:40\n",
            "Log Level: INFO\n",
            "Source: executor.CoarseGrainedExecutorBackend\n",
            "Message: Registered signal handlers for [TERM, HUP, INT]\n"
          ]
        }
      ]
    },
    {
      "cell_type": "code",
      "source": [
        "pip install prettytable"
      ],
      "metadata": {
        "colab": {
          "base_uri": "https://localhost:8080/"
        },
        "id": "uiuSOxh50MKs",
        "outputId": "9c2a7636-fb75-4c6c-a33c-78eb6539c88a"
      },
      "execution_count": 5,
      "outputs": [
        {
          "metadata": {
            "tags": null
          },
          "name": "stdout",
          "output_type": "stream",
          "text": [
            "Requirement already satisfied: prettytable in /usr/local/lib/python3.10/dist-packages (3.9.0)\n",
            "Requirement already satisfied: wcwidth in /usr/local/lib/python3.10/dist-packages (from prettytable) (0.2.8)\n"
          ]
        }
      ]
    },
    {
      "cell_type": "code",
      "source": [
        "import re\n",
        "import sqlite3\n",
        "from prettytable import PrettyTable\n",
        "\n",
        "# Регулярное выражение для разбора строки лога\n",
        "regex_pattern = r'(\\d{2}/\\d{2}/\\d{2}) (\\d{2}:\\d{2}:\\d{2}) (\\w+) (.*?):\\s+(.*)'\n",
        "\n",
        "# Функция для парсинга строки лога\n",
        "def parse_log_line(log_line):\n",
        "    matches = re.search(regex_pattern, log_line)\n",
        "    if matches:\n",
        "        date = matches.group(1)\n",
        "        time = matches.group(2)\n",
        "        log_level = matches.group(3)\n",
        "        source = matches.group(4)\n",
        "        message = matches.group(5)\n",
        "        return date, time, log_level, source, message\n",
        "    else:\n",
        "        return None\n",
        "\n",
        "# Создаем подключение к SQLite базе данных (или создаем новую базу данных)\n",
        "conn = sqlite3.connect('logs.db')\n",
        "\n",
        "# Создаем курсор для выполнения SQL-запросов\n",
        "cur = conn.cursor()\n",
        "\n",
        "# Создаем таблицу для хранения логов (если ее еще нет)\n",
        "cur.execute('''CREATE TABLE IF NOT EXISTS logs\n",
        "               (id INTEGER PRIMARY KEY AUTOINCREMENT,\n",
        "                date TEXT,\n",
        "                time TEXT,\n",
        "                log_level TEXT,\n",
        "                source TEXT,\n",
        "                message TEXT)''')\n",
        "\n",
        "# Пример строки лога\n",
        "log_line = \"17/06/09 20:10:40 INFO executor.CoarseGrainedExecutorBackend: Registered signal handlers for [TERM, HUP, INT]\"\n",
        "\n",
        "# Парсим строку лога\n",
        "parsed_log = parse_log_line(log_line)\n",
        "\n",
        "# Если удалось распарсить строку лога, сохраняем в базу данных\n",
        "if parsed_log:\n",
        "    date, time, log_level, source, message = parsed_log\n",
        "    cur.execute(\"INSERT INTO logs (date, time, log_level, source, message) VALUES (?, ?, ?, ?, ?)\",\n",
        "                (date, time, log_level, source, message))\n",
        "\n",
        "    # Сохраняем изменения в базе данных\n",
        "    conn.commit()\n",
        "\n",
        "    print(\"Log entry successfully parsed and saved to the database.\")\n",
        "else:\n",
        "    print(\"Failed to parse the log line.\")\n",
        "\n",
        "# Извлекаем все записи из базы данных\n",
        "cur.execute(\"SELECT * FROM logs\")\n",
        "logs = cur.fetchall()\n",
        "\n",
        "# Создаем объект таблицы\n",
        "table = PrettyTable(['ID', 'Date', 'Time', 'Log Level', 'Source', 'Message'])\n",
        "\n",
        "# Добавляем данные из базы данных в таблицу\n",
        "for log in logs:\n",
        "    table.add_row(log)\n",
        "\n",
        "# Выводим таблицу\n",
        "print(table)\n",
        "\n",
        "# Закрываем соединение с базой данных\n",
        "conn.close()\n"
      ],
      "metadata": {
        "colab": {
          "base_uri": "https://localhost:8080/"
        },
        "id": "cXZ5c4rq1CX-",
        "outputId": "943aad93-03f7-45e6-de12-a170b6656e94"
      },
      "execution_count": 6,
      "outputs": [
        {
          "output_type": "stream",
          "name": "stdout",
          "text": [
            "Log entry successfully parsed and saved to the database.\n",
            "+----+----------+----------+-----------+---------------------------------------+-------------------------------------------------+\n",
            "| ID |   Date   |   Time   | Log Level |                 Source                |                     Message                     |\n",
            "+----+----------+----------+-----------+---------------------------------------+-------------------------------------------------+\n",
            "| 1  | 17/06/09 | 20:10:40 |    INFO   | executor.CoarseGrainedExecutorBackend | Registered signal handlers for [TERM, HUP, INT] |\n",
            "| 2  | 17/06/09 | 20:10:40 |    INFO   | executor.CoarseGrainedExecutorBackend | Registered signal handlers for [TERM, HUP, INT] |\n",
            "+----+----------+----------+-----------+---------------------------------------+-------------------------------------------------+\n"
          ]
        }
      ]
    },
    {
      "cell_type": "markdown",
      "source": [
        "*Нормализация логов*"
      ],
      "metadata": {
        "id": "rHwgN5X82Wzf"
      }
    },
    {
      "cell_type": "code",
      "source": [
        "import re\n",
        "import sqlite3\n",
        "\n",
        "# Регулярное выражение для разбора строки лога\n",
        "regex_pattern = r'(\\d{2}/\\d{2}/\\d{2}) (\\d{2}:\\d{2}:\\d{2}) (\\w+) (.*?):\\s+(.*)'\n",
        "\n",
        "# Функция для нормализации строки лога\n",
        "def normalize_log_line(log_line):\n",
        "    matches = re.search(regex_pattern, log_line)\n",
        "    if matches:\n",
        "        date = matches.group(1)\n",
        "        time = matches.group(2)\n",
        "        log_level = matches.group(3).upper().strip()  # Приведение к верхнему регистру и удаление лишних пробелов\n",
        "        source = matches.group(4).strip()  # Удаление лишних пробелов\n",
        "        message = matches.group(5).strip()  # Удаление лишних пробелов\n",
        "        return date, time, log_level, source, message\n",
        "    else:\n",
        "        return None\n",
        "\n",
        "# Создаем подключение к SQLite базе данных (или создаем новую базу данных)\n",
        "conn = sqlite3.connect('normalized_logs.db')\n",
        "\n",
        "# Создаем курсор для выполнения SQL-запросов\n",
        "cur = conn.cursor()\n",
        "\n",
        "# Создаем таблицу для хранения нормализованных логов (если ее еще нет)\n",
        "cur.execute('''CREATE TABLE IF NOT EXISTS normalized_logs\n",
        "               (id INTEGER PRIMARY KEY AUTOINCREMENT,\n",
        "                date TEXT,\n",
        "                time TEXT,\n",
        "                log_level TEXT,\n",
        "                source TEXT,\n",
        "                message TEXT)''')\n",
        "\n",
        "# Пример строки лога\n",
        "log_line = \"17/06/09 20:10:40 INFO   executor.CoarseGrainedExecutorBackend: Registered signal handlers for [TERM, HUP, INT]\"\n",
        "\n",
        "# Нормализуем строку лога\n",
        "normalized_log = normalize_log_line(log_line)\n",
        "\n",
        "# Если удалось нормализовать строку лога, сохраняем в базу данных\n",
        "if normalized_log:\n",
        "    date, time, log_level, source, message = normalized_log\n",
        "    cur.execute(\"INSERT INTO normalized_logs (date, time, log_level, source, message) VALUES (?, ?, ?, ?, ?)\",\n",
        "                (date, time, log_level, source, message))\n",
        "\n",
        "    # Сохраняем изменения в базе данных\n",
        "    conn.commit()\n",
        "\n",
        "    print(\"Log entry successfully normalized and saved to the database.\")\n",
        "else:\n",
        "    print(\"Failed to normalize the log line.\")\n",
        "\n",
        "# Закрываем соединение с базой данных\n",
        "conn.close()\n"
      ],
      "metadata": {
        "colab": {
          "base_uri": "https://localhost:8080/"
        },
        "id": "schtVugF2bn0",
        "outputId": "c18676f5-6c66-457a-c38a-e39543630e4c"
      },
      "execution_count": 7,
      "outputs": [
        {
          "output_type": "stream",
          "name": "stdout",
          "text": [
            "Log entry successfully normalized and saved to the database.\n"
          ]
        }
      ]
    },
    {
      "cell_type": "markdown",
      "source": [
        "В этом примере я добавил функцию normalize_log_line, которая приводит к единой форме записи лога перед сохранением в базу данных. Для этой цели мы использовали методы upper() для приведения к верхнему регистру и strip() для удаления лишних пробелов в начале и конце строки."
      ],
      "metadata": {
        "id": "QfNzQ_K02mk6"
      }
    },
    {
      "cell_type": "markdown",
      "source": [
        "Подключем дополнительные библиотеки"
      ],
      "metadata": {
        "id": "jOp8j8U26kbJ"
      }
    },
    {
      "cell_type": "code",
      "source": [
        "pip install pandas"
      ],
      "metadata": {
        "colab": {
          "base_uri": "https://localhost:8080/"
        },
        "id": "Qp5n9TXe2sX8",
        "outputId": "a8acd599-4326-4ad2-ea5c-ebe398d3a370"
      },
      "execution_count": 10,
      "outputs": [
        {
          "output_type": "stream",
          "name": "stdout",
          "text": [
            "Requirement already satisfied: pandas in /usr/local/lib/python3.10/dist-packages (1.5.3)\n",
            "Requirement already satisfied: python-dateutil>=2.8.1 in /usr/local/lib/python3.10/dist-packages (from pandas) (2.8.2)\n",
            "Requirement already satisfied: pytz>=2020.1 in /usr/local/lib/python3.10/dist-packages (from pandas) (2023.3.post1)\n",
            "Requirement already satisfied: numpy>=1.21.0 in /usr/local/lib/python3.10/dist-packages (from pandas) (1.23.5)\n",
            "Requirement already satisfied: six>=1.5 in /usr/local/lib/python3.10/dist-packages (from python-dateutil>=2.8.1->pandas) (1.16.0)\n"
          ]
        }
      ]
    },
    {
      "cell_type": "code",
      "source": [
        "pip install matplotlib\n"
      ],
      "metadata": {
        "colab": {
          "base_uri": "https://localhost:8080/"
        },
        "id": "aAx3_rvE3q6k",
        "outputId": "a79063cb-3dd0-42df-d3ad-2d5fbffb71e8"
      },
      "execution_count": 11,
      "outputs": [
        {
          "output_type": "stream",
          "name": "stdout",
          "text": [
            "Requirement already satisfied: matplotlib in /usr/local/lib/python3.10/dist-packages (3.7.1)\n",
            "Requirement already satisfied: contourpy>=1.0.1 in /usr/local/lib/python3.10/dist-packages (from matplotlib) (1.1.1)\n",
            "Requirement already satisfied: cycler>=0.10 in /usr/local/lib/python3.10/dist-packages (from matplotlib) (0.12.0)\n",
            "Requirement already satisfied: fonttools>=4.22.0 in /usr/local/lib/python3.10/dist-packages (from matplotlib) (4.43.1)\n",
            "Requirement already satisfied: kiwisolver>=1.0.1 in /usr/local/lib/python3.10/dist-packages (from matplotlib) (1.4.5)\n",
            "Requirement already satisfied: numpy>=1.20 in /usr/local/lib/python3.10/dist-packages (from matplotlib) (1.23.5)\n",
            "Requirement already satisfied: packaging>=20.0 in /usr/local/lib/python3.10/dist-packages (from matplotlib) (23.2)\n",
            "Requirement already satisfied: pillow>=6.2.0 in /usr/local/lib/python3.10/dist-packages (from matplotlib) (9.4.0)\n",
            "Requirement already satisfied: pyparsing>=2.3.1 in /usr/local/lib/python3.10/dist-packages (from matplotlib) (3.1.1)\n",
            "Requirement already satisfied: python-dateutil>=2.7 in /usr/local/lib/python3.10/dist-packages (from matplotlib) (2.8.2)\n",
            "Requirement already satisfied: six>=1.5 in /usr/local/lib/python3.10/dist-packages (from python-dateutil>=2.7->matplotlib) (1.16.0)\n"
          ]
        }
      ]
    },
    {
      "cell_type": "markdown",
      "source": [
        "Статистический анализ и визуализация"
      ],
      "metadata": {
        "id": "d3mHX-cO5Cgg"
      }
    },
    {
      "cell_type": "code",
      "source": [
        "import re\n",
        "import sqlite3\n",
        "import pandas as pd\n",
        "import matplotlib.pyplot as plt\n",
        "\n",
        "# Регулярное выражение для разбора строки лога\n",
        "regex_pattern = r'(\\d{2}/\\d{2}/\\d{2}) (\\d{2}:\\d{2}:\\d{2}) (\\w+) (.*?):\\s+(.*)'\n",
        "\n",
        "# Функция для нормализации строки лога\n",
        "def normalize_log_line(log_line):\n",
        "    matches = re.search(regex_pattern, log_line)\n",
        "    if matches:\n",
        "        date = matches.group(1)\n",
        "        time = matches.group(2)\n",
        "        log_level = matches.group(3).upper().strip()  # Приведение к верхнему регистру и удаление лишних пробелов\n",
        "        source = matches.group(4).strip()  # Удаление лишних пробелов\n",
        "        message = matches.group(5).strip()  # Удаление лишних пробелов\n",
        "        return date, time, log_level, source, message\n",
        "    else:\n",
        "        return None\n",
        "\n",
        "# Создаем подключение к SQLite базе данных (или создаем новую базу данных)\n",
        "conn = sqlite3.connect('normalized_logs.db')\n",
        "\n",
        "# Создаем курсор для выполнения SQL-запросов\n",
        "cur = conn.cursor()\n",
        "\n",
        "# Создаем таблицу для хранения нормализованных логов (если ее еще нет)\n",
        "cur.execute('''CREATE TABLE IF NOT EXISTS normalized_logs\n",
        "               (id INTEGER PRIMARY KEY AUTOINCREMENT,\n",
        "                date TEXT,\n",
        "                time TEXT,\n",
        "                log_level TEXT,\n",
        "                source TEXT,\n",
        "                message TEXT)''')\n",
        "\n",
        "# Пример строки лога\n",
        "log_line = \"17/06/09 20:10:40 INFO   executor.CoarseGrainedExecutorBackend: Registered signal handlers for [TERM, HUP, INT]\"\n",
        "\n",
        "# Нормализуем строку лога\n",
        "normalized_log = normalize_log_line(log_line)\n",
        "\n",
        "# Если удалось нормализовать строку лога, сохраняем в базу данных\n",
        "if normalized_log:\n",
        "    date, time, log_level, source, message = normalized_log\n",
        "    cur.execute(\"INSERT INTO normalized_logs (date, time, log_level, source, message) VALUES (?, ?, ?, ?, ?)\",\n",
        "                (date, time, log_level, source, message))\n",
        "\n",
        "    # Сохраняем изменения в базе данных\n",
        "    conn.commit()\n",
        "\n",
        "    print(\"Log entry successfully normalized and saved to the database.\")\n",
        "else:\n",
        "    print(\"Failed to normalize the log line.\")\n",
        "\n",
        "# Извлекаем все записи из базы данных\n",
        "cur.execute(\"SELECT * FROM normalized_logs\")\n",
        "logs = cur.fetchall()\n",
        "\n",
        "# Создаем объект DataFrame из данных\n",
        "df = pd.DataFrame(logs, columns=['id', 'date', 'time', 'log_level', 'source', 'message'])\n",
        "\n",
        "# Проводим статистический анализ уровня логирования\n",
        "log_level_counts = df['log_level'].value_counts()\n",
        "\n",
        "# Выводим статистику\n",
        "print(\"Статистика по уровню логирования:\")\n",
        "print(log_level_counts)\n",
        "\n",
        "# Визуализируем статистику уровня логирования\n",
        "log_level_counts.plot(kind='bar')\n",
        "plt.title('Статистика уровня логирования')\n",
        "plt.xlabel('Уровень логирования')\n",
        "plt.ylabel('Количество событий')\n",
        "plt.show()\n",
        "\n",
        "# Закрываем соединение с базой данных\n",
        "conn.close()\n"
      ],
      "metadata": {
        "colab": {
          "base_uri": "https://localhost:8080/",
          "height": 560
        },
        "id": "fyTekvPe5i02",
        "outputId": "de3c3087-5e16-464d-ba29-079b7fcefa82"
      },
      "execution_count": 12,
      "outputs": [
        {
          "output_type": "stream",
          "name": "stdout",
          "text": [
            "Log entry successfully normalized and saved to the database.\n",
            "Статистика по уровню логирования:\n",
            "INFO    2\n",
            "Name: log_level, dtype: int64\n"
          ]
        },
        {
          "output_type": "display_data",
          "data": {
            "text/plain": [
              "<Figure size 640x480 with 1 Axes>"
            ],
            "image/png": "[encoded data removed]"
          },
          "metadata": {}
        }
      ]
    },
    {
      "cell_type": "markdown",
      "source": [
        "Этот код включает в себя нормализацию логов, сохранение их в базу данных, статистический анализ уровня логирования и визуализацию статистики в виде столбчатой диаграммы"
      ],
      "metadata": {
        "id": "SqhSZ3ek6a2u"
      }
    }
  ]
}